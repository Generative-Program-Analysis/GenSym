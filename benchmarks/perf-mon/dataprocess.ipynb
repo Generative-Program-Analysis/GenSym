{
 "cells": [
  {
   "cell_type": "code",
   "execution_count": null,
   "id": "e3f2b1e5",
   "metadata": {},
   "outputs": [],
   "source": [
    "%pylab inline --no-import-all\n",
    "#%pylab notebook --no-import-all\n",
    "import pandas as pd\n",
    "import seaborn as sns\n",
    "plt.rcParams['figure.figsize'] = [24, 8]"
   ]
  },
  {
   "cell_type": "code",
   "execution_count": null,
   "id": "dcbdec6b",
   "metadata": {},
   "outputs": [],
   "source": [
    "names = 'time commit engine case solverTime chainTime wholeTime partialBrCov fullBrCov blockCov pathNum brQueryNum testQueryNum cexCacheHit'\n",
    "df = pd.read_csv('bench.csv', header=0, names=names.split(), parse_dates=['time'])\n",
    "df = df.convert_dtypes(False, True, False, False, False)\n",
    "df"
   ]
  },
  {
   "cell_type": "code",
   "execution_count": null,
   "id": "45b5598b",
   "metadata": {},
   "outputs": [],
   "source": [
    "tmp = df['case'].str.extract(r'(?:(par\\d+)_)?(.+)')\n",
    "df['para'] = tmp[0].fillna('serial')\n",
    "df['case'] = tmp[1]"
   ]
  },
  {
   "cell_type": "code",
   "execution_count": null,
   "id": "12797c6d",
   "metadata": {},
   "outputs": [],
   "source": [
    "df['commit'] = pd.Categorical(df['commit'], df['commit'].unique(), ordered=True)\n",
    "df['para'] = pd.Categorical(df['para'], ['serial', 'par2', 'par4', 'par8', 'par16'], ordered=True)\n",
    "df['engine'] = pd.Categorical(df['engine'], ['ImpLLSC', 'ImpCPSLLSC', 'PureLLSC', 'PureCPSLLSC', 'PureCPSLLSC_Z3'], ordered=True)"
   ]
  },
  {
   "cell_type": "code",
   "execution_count": null,
   "id": "66daaee5",
   "metadata": {},
   "outputs": [],
   "source": [
    "df = df[df['commit'] >= df['commit'].dtype.categories[-12:][0]].copy()\n",
    "df['commit'] = df['commit'].cat.remove_unused_categories()"
   ]
  },
  {
   "cell_type": "code",
   "execution_count": null,
   "id": "e9500a85",
   "metadata": {
    "scrolled": false
   },
   "outputs": [],
   "source": [
    "vio_styles = dict(inner=None, scale='count')\n",
    "for name, case in df.groupby('case'):\n",
    "    fig, axes = plt.subplots(1, 3, sharey=True)\n",
    "\n",
    "    whole = case.pivot_table(index='commit', columns=['engine', 'para'], values='wholeTime', aggfunc='mean')\n",
    "    werr = case.pivot_table(index='commit', columns=['engine', 'para'], values='wholeTime', aggfunc='std')\n",
    "    ax = whole.plot(ax=axes[0], yerr=werr)\n",
    "    ax.set_title(name)\n",
    "    \n",
    "    data = case[case['para'] == \"serial\"]\n",
    "    ax = sns.violinplot(x='commit', y='wholeTime', hue='engine', data=data, ax=axes[1], **vio_styles)\n",
    "    ax.set_title('%s - serial' % name)\n",
    "    \n",
    "    data = case[case['engine'] == \"PureCPSLLSC_Z3\"]\n",
    "    ax = sns.violinplot(x='commit', y='wholeTime', hue='para', data=data, ax=axes[2], **vio_styles)\n",
    "    ax.set_title('%s - parallel' % name)"
   ]
  },
  {
   "cell_type": "code",
   "execution_count": null,
   "id": "6e5e1c97",
   "metadata": {},
   "outputs": [],
   "source": [
    "df = df[df['commit'] >= df['commit'].dtype.categories[-6:][0]].copy()\n",
    "df['commit'] = df['commit'].cat.remove_unused_categories()\n",
    "df['threads'] = df['para'].str.extract(r'par(\\d+)').fillna(1).astype(int)\n",
    "df['cacheTime'] = (df['chainTime'] - df['solverTime']) / df['threads']\n",
    "df['stateTime'] = df['wholeTime'] - df['chainTime'] / df['threads']\n",
    "df['solverTime'] /= df['threads']\n",
    "#pd.options.display.max_rows = None"
   ]
  },
  {
   "cell_type": "code",
   "execution_count": null,
   "id": "05de8eae",
   "metadata": {
    "scrolled": false
   },
   "outputs": [],
   "source": [
    "serial = df[~df['engine'].str.endswith('_Z3')]\n",
    "serial.pivot_table(index=['case', 'commit'], columns=['engine'], values=['solverTime', 'cacheTime', 'stateTime'], aggfunc='median')"
   ]
  },
  {
   "cell_type": "code",
   "execution_count": null,
   "id": "e5010879",
   "metadata": {},
   "outputs": [],
   "source": [
    "para = df[df['engine'].str.endswith('_Z3')]\n",
    "para.pivot_table(index=['case', 'commit'], columns=['para'], values=['solverTime', 'cacheTime', 'stateTime'], aggfunc='median')"
   ]
  },
  {
   "cell_type": "code",
   "execution_count": null,
   "id": "131e4666",
   "metadata": {},
   "outputs": [],
   "source": []
  }
 ],
 "metadata": {
  "kernelspec": {
   "display_name": "Python 3 (ipykernel)",
   "language": "python",
   "name": "python3"
  },
  "language_info": {
   "codemirror_mode": {
    "name": "ipython",
    "version": 3
   },
   "file_extension": ".py",
   "mimetype": "text/x-python",
   "name": "python",
   "nbconvert_exporter": "python",
   "pygments_lexer": "ipython3",
   "version": "3.9.7"
  }
 },
 "nbformat": 4,
 "nbformat_minor": 5
}
